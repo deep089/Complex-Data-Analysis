{
  "nbformat": 4,
  "nbformat_minor": 0,
  "metadata": {
    "colab": {
      "provenance": []
    },
    "kernelspec": {
      "name": "python3",
      "display_name": "Python 3"
    },
    "language_info": {
      "name": "python"
    }
  },
  "cells": [
    {
      "cell_type": "code",
      "source": [
        "# Install necessary libraries\n",
        "!pip install fuzzywuzzy[speedup] openpyxl pandas"
      ],
      "metadata": {
        "colab": {
          "base_uri": "https://localhost:8080/"
        },
        "id": "NTK7MDtk7umd",
        "outputId": "4a8663aa-98cd-40b5-98dc-2f89e0726fc6"
      },
      "execution_count": null,
      "outputs": [
        {
          "output_type": "stream",
          "name": "stdout",
          "text": [
            "Requirement already satisfied: openpyxl in /usr/local/lib/python3.10/dist-packages (3.1.5)\n",
            "Requirement already satisfied: pandas in /usr/local/lib/python3.10/dist-packages (2.1.4)\n",
            "Requirement already satisfied: fuzzywuzzy[speedup] in /usr/local/lib/python3.10/dist-packages (0.18.0)\n",
            "Requirement already satisfied: python-levenshtein>=0.12 in /usr/local/lib/python3.10/dist-packages (from fuzzywuzzy[speedup]) (0.25.1)\n",
            "Requirement already satisfied: et-xmlfile in /usr/local/lib/python3.10/dist-packages (from openpyxl) (1.1.0)\n",
            "Requirement already satisfied: numpy<2,>=1.22.4 in /usr/local/lib/python3.10/dist-packages (from pandas) (1.26.4)\n",
            "Requirement already satisfied: python-dateutil>=2.8.2 in /usr/local/lib/python3.10/dist-packages (from pandas) (2.8.2)\n",
            "Requirement already satisfied: pytz>=2020.1 in /usr/local/lib/python3.10/dist-packages (from pandas) (2024.1)\n",
            "Requirement already satisfied: tzdata>=2022.1 in /usr/local/lib/python3.10/dist-packages (from pandas) (2024.1)\n",
            "Requirement already satisfied: six>=1.5 in /usr/local/lib/python3.10/dist-packages (from python-dateutil>=2.8.2->pandas) (1.16.0)\n",
            "Requirement already satisfied: Levenshtein==0.25.1 in /usr/local/lib/python3.10/dist-packages (from python-levenshtein>=0.12->fuzzywuzzy[speedup]) (0.25.1)\n",
            "Requirement already satisfied: rapidfuzz<4.0.0,>=3.8.0 in /usr/local/lib/python3.10/dist-packages (from Levenshtein==0.25.1->python-levenshtein>=0.12->fuzzywuzzy[speedup]) (3.9.7)\n"
          ]
        }
      ]
    },
    {
      "cell_type": "code",
      "execution_count": null,
      "metadata": {
        "id": "0tDjhcFptAiF"
      },
      "outputs": [],
      "source": [
        "import pandas as pd\n",
        "from fuzzywuzzy import fuzz, process\n",
        "from google.colab import files"
      ]
    },
    {
      "cell_type": "code",
      "source": [
        "# Step 1: Upload the Excel files from your local system\n",
        "print(\"Please upload 'Mark Meyers.xlsx'\")\n",
        "uploaded = files.upload()\n",
        "\n",
        "print(\"Please upload 'Shauns Report.xlsx'\")\n",
        "uploaded = files.upload()"
      ],
      "metadata": {
        "colab": {
          "base_uri": "https://localhost:8080/",
          "height": 198
        },
        "id": "A5bfXxpytGx_",
        "outputId": "358dc03e-f6b1-4622-eb88-b4761bbb17d7"
      },
      "execution_count": null,
      "outputs": [
        {
          "output_type": "stream",
          "name": "stdout",
          "text": [
            "Please upload 'Mark Meyers.xlsx'\n"
          ]
        },
        {
          "output_type": "display_data",
          "data": {
            "text/plain": [
              "<IPython.core.display.HTML object>"
            ],
            "text/html": [
              "\n",
              "     <input type=\"file\" id=\"files-568c4b00-8079-4ad8-8cf6-81883b1eda29\" name=\"files[]\" multiple disabled\n",
              "        style=\"border:none\" />\n",
              "     <output id=\"result-568c4b00-8079-4ad8-8cf6-81883b1eda29\">\n",
              "      Upload widget is only available when the cell has been executed in the\n",
              "      current browser session. Please rerun this cell to enable.\n",
              "      </output>\n",
              "      <script>// Copyright 2017 Google LLC\n",
              "//\n",
              "// Licensed under the Apache License, Version 2.0 (the \"License\");\n",
              "// you may not use this file except in compliance with the License.\n",
              "// You may obtain a copy of the License at\n",
              "//\n",
              "//      http://www.apache.org/licenses/LICENSE-2.0\n",
              "//\n",
              "// Unless required by applicable law or agreed to in writing, software\n",
              "// distributed under the License is distributed on an \"AS IS\" BASIS,\n",
              "// WITHOUT WARRANTIES OR CONDITIONS OF ANY KIND, either express or implied.\n",
              "// See the License for the specific language governing permissions and\n",
              "// limitations under the License.\n",
              "\n",
              "/**\n",
              " * @fileoverview Helpers for google.colab Python module.\n",
              " */\n",
              "(function(scope) {\n",
              "function span(text, styleAttributes = {}) {\n",
              "  const element = document.createElement('span');\n",
              "  element.textContent = text;\n",
              "  for (const key of Object.keys(styleAttributes)) {\n",
              "    element.style[key] = styleAttributes[key];\n",
              "  }\n",
              "  return element;\n",
              "}\n",
              "\n",
              "// Max number of bytes which will be uploaded at a time.\n",
              "const MAX_PAYLOAD_SIZE = 100 * 1024;\n",
              "\n",
              "function _uploadFiles(inputId, outputId) {\n",
              "  const steps = uploadFilesStep(inputId, outputId);\n",
              "  const outputElement = document.getElementById(outputId);\n",
              "  // Cache steps on the outputElement to make it available for the next call\n",
              "  // to uploadFilesContinue from Python.\n",
              "  outputElement.steps = steps;\n",
              "\n",
              "  return _uploadFilesContinue(outputId);\n",
              "}\n",
              "\n",
              "// This is roughly an async generator (not supported in the browser yet),\n",
              "// where there are multiple asynchronous steps and the Python side is going\n",
              "// to poll for completion of each step.\n",
              "// This uses a Promise to block the python side on completion of each step,\n",
              "// then passes the result of the previous step as the input to the next step.\n",
              "function _uploadFilesContinue(outputId) {\n",
              "  const outputElement = document.getElementById(outputId);\n",
              "  const steps = outputElement.steps;\n",
              "\n",
              "  const next = steps.next(outputElement.lastPromiseValue);\n",
              "  return Promise.resolve(next.value.promise).then((value) => {\n",
              "    // Cache the last promise value to make it available to the next\n",
              "    // step of the generator.\n",
              "    outputElement.lastPromiseValue = value;\n",
              "    return next.value.response;\n",
              "  });\n",
              "}\n",
              "\n",
              "/**\n",
              " * Generator function which is called between each async step of the upload\n",
              " * process.\n",
              " * @param {string} inputId Element ID of the input file picker element.\n",
              " * @param {string} outputId Element ID of the output display.\n",
              " * @return {!Iterable<!Object>} Iterable of next steps.\n",
              " */\n",
              "function* uploadFilesStep(inputId, outputId) {\n",
              "  const inputElement = document.getElementById(inputId);\n",
              "  inputElement.disabled = false;\n",
              "\n",
              "  const outputElement = document.getElementById(outputId);\n",
              "  outputElement.innerHTML = '';\n",
              "\n",
              "  const pickedPromise = new Promise((resolve) => {\n",
              "    inputElement.addEventListener('change', (e) => {\n",
              "      resolve(e.target.files);\n",
              "    });\n",
              "  });\n",
              "\n",
              "  const cancel = document.createElement('button');\n",
              "  inputElement.parentElement.appendChild(cancel);\n",
              "  cancel.textContent = 'Cancel upload';\n",
              "  const cancelPromise = new Promise((resolve) => {\n",
              "    cancel.onclick = () => {\n",
              "      resolve(null);\n",
              "    };\n",
              "  });\n",
              "\n",
              "  // Wait for the user to pick the files.\n",
              "  const files = yield {\n",
              "    promise: Promise.race([pickedPromise, cancelPromise]),\n",
              "    response: {\n",
              "      action: 'starting',\n",
              "    }\n",
              "  };\n",
              "\n",
              "  cancel.remove();\n",
              "\n",
              "  // Disable the input element since further picks are not allowed.\n",
              "  inputElement.disabled = true;\n",
              "\n",
              "  if (!files) {\n",
              "    return {\n",
              "      response: {\n",
              "        action: 'complete',\n",
              "      }\n",
              "    };\n",
              "  }\n",
              "\n",
              "  for (const file of files) {\n",
              "    const li = document.createElement('li');\n",
              "    li.append(span(file.name, {fontWeight: 'bold'}));\n",
              "    li.append(span(\n",
              "        `(${file.type || 'n/a'}) - ${file.size} bytes, ` +\n",
              "        `last modified: ${\n",
              "            file.lastModifiedDate ? file.lastModifiedDate.toLocaleDateString() :\n",
              "                                    'n/a'} - `));\n",
              "    const percent = span('0% done');\n",
              "    li.appendChild(percent);\n",
              "\n",
              "    outputElement.appendChild(li);\n",
              "\n",
              "    const fileDataPromise = new Promise((resolve) => {\n",
              "      const reader = new FileReader();\n",
              "      reader.onload = (e) => {\n",
              "        resolve(e.target.result);\n",
              "      };\n",
              "      reader.readAsArrayBuffer(file);\n",
              "    });\n",
              "    // Wait for the data to be ready.\n",
              "    let fileData = yield {\n",
              "      promise: fileDataPromise,\n",
              "      response: {\n",
              "        action: 'continue',\n",
              "      }\n",
              "    };\n",
              "\n",
              "    // Use a chunked sending to avoid message size limits. See b/62115660.\n",
              "    let position = 0;\n",
              "    do {\n",
              "      const length = Math.min(fileData.byteLength - position, MAX_PAYLOAD_SIZE);\n",
              "      const chunk = new Uint8Array(fileData, position, length);\n",
              "      position += length;\n",
              "\n",
              "      const base64 = btoa(String.fromCharCode.apply(null, chunk));\n",
              "      yield {\n",
              "        response: {\n",
              "          action: 'append',\n",
              "          file: file.name,\n",
              "          data: base64,\n",
              "        },\n",
              "      };\n",
              "\n",
              "      let percentDone = fileData.byteLength === 0 ?\n",
              "          100 :\n",
              "          Math.round((position / fileData.byteLength) * 100);\n",
              "      percent.textContent = `${percentDone}% done`;\n",
              "\n",
              "    } while (position < fileData.byteLength);\n",
              "  }\n",
              "\n",
              "  // All done.\n",
              "  yield {\n",
              "    response: {\n",
              "      action: 'complete',\n",
              "    }\n",
              "  };\n",
              "}\n",
              "\n",
              "scope.google = scope.google || {};\n",
              "scope.google.colab = scope.google.colab || {};\n",
              "scope.google.colab._files = {\n",
              "  _uploadFiles,\n",
              "  _uploadFilesContinue,\n",
              "};\n",
              "})(self);\n",
              "</script> "
            ]
          },
          "metadata": {}
        },
        {
          "output_type": "stream",
          "name": "stdout",
          "text": [
            "Saving Mark Meyers.xlsx to Mark Meyers.xlsx\n",
            "Please upload 'Shauns Report.xlsx'\n"
          ]
        },
        {
          "output_type": "display_data",
          "data": {
            "text/plain": [
              "<IPython.core.display.HTML object>"
            ],
            "text/html": [
              "\n",
              "     <input type=\"file\" id=\"files-a970a938-9b21-41e7-9393-f6cc9ef21753\" name=\"files[]\" multiple disabled\n",
              "        style=\"border:none\" />\n",
              "     <output id=\"result-a970a938-9b21-41e7-9393-f6cc9ef21753\">\n",
              "      Upload widget is only available when the cell has been executed in the\n",
              "      current browser session. Please rerun this cell to enable.\n",
              "      </output>\n",
              "      <script>// Copyright 2017 Google LLC\n",
              "//\n",
              "// Licensed under the Apache License, Version 2.0 (the \"License\");\n",
              "// you may not use this file except in compliance with the License.\n",
              "// You may obtain a copy of the License at\n",
              "//\n",
              "//      http://www.apache.org/licenses/LICENSE-2.0\n",
              "//\n",
              "// Unless required by applicable law or agreed to in writing, software\n",
              "// distributed under the License is distributed on an \"AS IS\" BASIS,\n",
              "// WITHOUT WARRANTIES OR CONDITIONS OF ANY KIND, either express or implied.\n",
              "// See the License for the specific language governing permissions and\n",
              "// limitations under the License.\n",
              "\n",
              "/**\n",
              " * @fileoverview Helpers for google.colab Python module.\n",
              " */\n",
              "(function(scope) {\n",
              "function span(text, styleAttributes = {}) {\n",
              "  const element = document.createElement('span');\n",
              "  element.textContent = text;\n",
              "  for (const key of Object.keys(styleAttributes)) {\n",
              "    element.style[key] = styleAttributes[key];\n",
              "  }\n",
              "  return element;\n",
              "}\n",
              "\n",
              "// Max number of bytes which will be uploaded at a time.\n",
              "const MAX_PAYLOAD_SIZE = 100 * 1024;\n",
              "\n",
              "function _uploadFiles(inputId, outputId) {\n",
              "  const steps = uploadFilesStep(inputId, outputId);\n",
              "  const outputElement = document.getElementById(outputId);\n",
              "  // Cache steps on the outputElement to make it available for the next call\n",
              "  // to uploadFilesContinue from Python.\n",
              "  outputElement.steps = steps;\n",
              "\n",
              "  return _uploadFilesContinue(outputId);\n",
              "}\n",
              "\n",
              "// This is roughly an async generator (not supported in the browser yet),\n",
              "// where there are multiple asynchronous steps and the Python side is going\n",
              "// to poll for completion of each step.\n",
              "// This uses a Promise to block the python side on completion of each step,\n",
              "// then passes the result of the previous step as the input to the next step.\n",
              "function _uploadFilesContinue(outputId) {\n",
              "  const outputElement = document.getElementById(outputId);\n",
              "  const steps = outputElement.steps;\n",
              "\n",
              "  const next = steps.next(outputElement.lastPromiseValue);\n",
              "  return Promise.resolve(next.value.promise).then((value) => {\n",
              "    // Cache the last promise value to make it available to the next\n",
              "    // step of the generator.\n",
              "    outputElement.lastPromiseValue = value;\n",
              "    return next.value.response;\n",
              "  });\n",
              "}\n",
              "\n",
              "/**\n",
              " * Generator function which is called between each async step of the upload\n",
              " * process.\n",
              " * @param {string} inputId Element ID of the input file picker element.\n",
              " * @param {string} outputId Element ID of the output display.\n",
              " * @return {!Iterable<!Object>} Iterable of next steps.\n",
              " */\n",
              "function* uploadFilesStep(inputId, outputId) {\n",
              "  const inputElement = document.getElementById(inputId);\n",
              "  inputElement.disabled = false;\n",
              "\n",
              "  const outputElement = document.getElementById(outputId);\n",
              "  outputElement.innerHTML = '';\n",
              "\n",
              "  const pickedPromise = new Promise((resolve) => {\n",
              "    inputElement.addEventListener('change', (e) => {\n",
              "      resolve(e.target.files);\n",
              "    });\n",
              "  });\n",
              "\n",
              "  const cancel = document.createElement('button');\n",
              "  inputElement.parentElement.appendChild(cancel);\n",
              "  cancel.textContent = 'Cancel upload';\n",
              "  const cancelPromise = new Promise((resolve) => {\n",
              "    cancel.onclick = () => {\n",
              "      resolve(null);\n",
              "    };\n",
              "  });\n",
              "\n",
              "  // Wait for the user to pick the files.\n",
              "  const files = yield {\n",
              "    promise: Promise.race([pickedPromise, cancelPromise]),\n",
              "    response: {\n",
              "      action: 'starting',\n",
              "    }\n",
              "  };\n",
              "\n",
              "  cancel.remove();\n",
              "\n",
              "  // Disable the input element since further picks are not allowed.\n",
              "  inputElement.disabled = true;\n",
              "\n",
              "  if (!files) {\n",
              "    return {\n",
              "      response: {\n",
              "        action: 'complete',\n",
              "      }\n",
              "    };\n",
              "  }\n",
              "\n",
              "  for (const file of files) {\n",
              "    const li = document.createElement('li');\n",
              "    li.append(span(file.name, {fontWeight: 'bold'}));\n",
              "    li.append(span(\n",
              "        `(${file.type || 'n/a'}) - ${file.size} bytes, ` +\n",
              "        `last modified: ${\n",
              "            file.lastModifiedDate ? file.lastModifiedDate.toLocaleDateString() :\n",
              "                                    'n/a'} - `));\n",
              "    const percent = span('0% done');\n",
              "    li.appendChild(percent);\n",
              "\n",
              "    outputElement.appendChild(li);\n",
              "\n",
              "    const fileDataPromise = new Promise((resolve) => {\n",
              "      const reader = new FileReader();\n",
              "      reader.onload = (e) => {\n",
              "        resolve(e.target.result);\n",
              "      };\n",
              "      reader.readAsArrayBuffer(file);\n",
              "    });\n",
              "    // Wait for the data to be ready.\n",
              "    let fileData = yield {\n",
              "      promise: fileDataPromise,\n",
              "      response: {\n",
              "        action: 'continue',\n",
              "      }\n",
              "    };\n",
              "\n",
              "    // Use a chunked sending to avoid message size limits. See b/62115660.\n",
              "    let position = 0;\n",
              "    do {\n",
              "      const length = Math.min(fileData.byteLength - position, MAX_PAYLOAD_SIZE);\n",
              "      const chunk = new Uint8Array(fileData, position, length);\n",
              "      position += length;\n",
              "\n",
              "      const base64 = btoa(String.fromCharCode.apply(null, chunk));\n",
              "      yield {\n",
              "        response: {\n",
              "          action: 'append',\n",
              "          file: file.name,\n",
              "          data: base64,\n",
              "        },\n",
              "      };\n",
              "\n",
              "      let percentDone = fileData.byteLength === 0 ?\n",
              "          100 :\n",
              "          Math.round((position / fileData.byteLength) * 100);\n",
              "      percent.textContent = `${percentDone}% done`;\n",
              "\n",
              "    } while (position < fileData.byteLength);\n",
              "  }\n",
              "\n",
              "  // All done.\n",
              "  yield {\n",
              "    response: {\n",
              "      action: 'complete',\n",
              "    }\n",
              "  };\n",
              "}\n",
              "\n",
              "scope.google = scope.google || {};\n",
              "scope.google.colab = scope.google.colab || {};\n",
              "scope.google.colab._files = {\n",
              "  _uploadFiles,\n",
              "  _uploadFilesContinue,\n",
              "};\n",
              "})(self);\n",
              "</script> "
            ]
          },
          "metadata": {}
        },
        {
          "output_type": "stream",
          "name": "stdout",
          "text": [
            "Saving Shauns Report.xlsx to Shauns Report.xlsx\n"
          ]
        }
      ]
    },
    {
      "cell_type": "code",
      "source": [
        "# Load the Excel files from the uploaded data\n",
        "mark_file = 'Mark Meyers.xlsx'  # This is the uploaded file name\n",
        "shaun_file = 'Shauns Report.xlsx'  # This is the uploaded file name"
      ],
      "metadata": {
        "id": "9_tqCEldtOxT"
      },
      "execution_count": null,
      "outputs": []
    },
    {
      "cell_type": "code",
      "source": [
        "# Use pd.ExcelFile to load the workbook\n",
        "excel_data = pd.ExcelFile(mark_file)\n",
        "\n",
        "# List all the sheet names in the workbook\n",
        "sheet_names = excel_data.sheet_names\n",
        "print(\"Available sheets in the file:\")\n",
        "print(sheet_names)"
      ],
      "metadata": {
        "colab": {
          "base_uri": "https://localhost:8080/"
        },
        "id": "fC3pRWwzt7EE",
        "outputId": "88ebc871-271e-495e-9ebf-b3f53404ad8d"
      },
      "execution_count": null,
      "outputs": [
        {
          "output_type": "stream",
          "name": "stdout",
          "text": [
            "Available sheets in the file:\n",
            "['By_Bill_To_Company', 'By_Ship_To_Company', 'By Category', 'By Profit', 'Group Summary', 'Report Specifications']\n"
          ]
        }
      ]
    },
    {
      "cell_type": "code",
      "source": [
        "\n",
        "excel_file = pd.ExcelFile(mark_file)\n",
        "\n",
        "# Get sheet names\n",
        "sheet_names = excel_file.sheet_names\n",
        "\n",
        "# Get column names for each sheet\n",
        "sheet_columns = {}\n",
        "for sheet in sheet_names:\n",
        "    df = pd.read_excel(excel_file, sheet_name=sheet)\n",
        "    sheet_columns[sheet] = df.columns.tolist()\n",
        "\n",
        "# Print the column names for each sheet\n",
        "for sheet, columns in sheet_columns.items():\n",
        "    print(f\"Sheet: {sheet}\")\n",
        "    print(f\"Columns: {columns}\")\n"
      ],
      "metadata": {
        "colab": {
          "base_uri": "https://localhost:8080/"
        },
        "id": "bZ4YQYkIx9mQ",
        "outputId": "cbf0e4bb-b9b3-40d6-c5d8-262af0a2f33b"
      },
      "execution_count": null,
      "outputs": [
        {
          "output_type": "stream",
          "name": "stdout",
          "text": [
            "Sheet: By_Bill_To_Company\n",
            "Columns: ['Sales Rep', 'billcomp', 'OTS\\nBillto', 'billcity', 'billstate', 'billzip', 'Product Category', 'trancount', 'Quantity', 'Total Sales', 'Total Cost', 'Total Profit', 'rptqty', 'WFS\\nGroup#', 'Group Name', 'wfsaccount', 'wfscrr', 'businesstype', 'legacyname', 'fedid', 'subcategory']\n",
            "Sheet: By_Ship_To_Company\n",
            "Columns: ['Sales Rep', 'billcomp', 'OTS\\nBillto', 'OTS\\nShipto', 'shipcomp', 'shipcity', 'shipstate', 'shipzip', 'Product Category', 'trancount', 'Quantity', 'Total Sales', 'Total Cost', 'Total Profit', 'rptqty', 'WFS\\nGroup#', 'Group Name', 'wfsaccount', 'wfscrr', 'businesstype', 'legacyname', 'Airport', 'fedid', 'subcategory', 'brandname', 'ICAO']\n",
            "Sheet: By Category\n",
            "Columns: ['Sales Rep', 'Product Category', 'subcategory', 'trancount', 'Quantity', 'Total Sales', 'Total Cost', 'Total Profit', 'rptqty']\n",
            "Sheet: By Profit\n",
            "Columns: ['billcomp', 'OTS\\nBillto', 'Sales Rep', 'trancount', 'Quantity', 'Total Sales', 'Total Cost', 'Total Profit', 'rptqty']\n",
            "Sheet: Group Summary\n",
            "Columns: ['Product Category', 'Product Name', 'Quantity', 'Total Sales', 'Total Profit', 'Total Reconciled']\n",
            "Sheet: Report Specifications\n",
            "Columns: ['Customer Profitablity Report', 'Unnamed: 1']\n"
          ]
        }
      ]
    },
    {
      "cell_type": "code",
      "source": [
        "\n",
        "excel_file = pd.ExcelFile(mark_file)\n",
        "\n",
        "# Get sheet names\n",
        "sheet_names = excel_file.sheet_names\n",
        "\n",
        "# Get unique rows for \"Product Category\" column for each sheet\n",
        "unique_product_categories = {}\n",
        "for sheet in sheet_names:\n",
        "    df = pd.read_excel(excel_file, sheet_name=sheet)\n",
        "    if 'Product Category' in df.columns:\n",
        "        unique_product_categories[sheet] = df['Product Category'].drop_duplicates().tolist()\n",
        "\n",
        "# Print the unique rows for \"Product Category\" column for each sheet\n",
        "for sheet, unique_rows in unique_product_categories.items():\n",
        "    print(f\"Sheet: {sheet}\")\n",
        "    print(f\"Unique Product Categories: {unique_rows}\")\n"
      ],
      "metadata": {
        "colab": {
          "base_uri": "https://localhost:8080/"
        },
        "id": "lj1XTNtNzl2Q",
        "outputId": "024d2a85-4368-4ebc-ac6d-63cf1a64220c"
      },
      "execution_count": null,
      "outputs": [
        {
          "output_type": "stream",
          "name": "stdout",
          "text": [
            "Sheet: By_Bill_To_Company\n",
            "Unique Product Categories: ['Avgas', 'Jet Fuel', 'Software', 'Other Charges', 'Financial / BDF', 'Refuelers / Avgas', 'Refuelers / Jet', 'Signs / World', 'Other Costs', 'De-Icing Fluid', 'Misc', 'Signs / Phillips', 'Credit Cards', 'Signs / Ascent', 'Storage / Deicing St', 'Anti-Icing Additive', nan]\n",
            "Sheet: By_Ship_To_Company\n",
            "Unique Product Categories: ['Other Costs', 'Avgas', 'Jet Fuel', 'Software', 'Other Charges', 'Financial / BDF', 'Refuelers / Avgas', 'Refuelers / Jet', 'Signs / World', 'De-Icing Fluid', 'Misc', 'Signs / Phillips', 'Credit Cards', 'Signs / Ascent', 'Storage / Deicing St', 'Anti-Icing Additive', nan]\n",
            "Sheet: By Category\n",
            "Unique Product Categories: ['Anti-Icing Additive', 'Avgas', 'De-Icing Fluid', 'Jet Fuel', 'Misc', 'Software', 'Other Charges', 'Credit Cards', 'Financial / BDF', 'Other Costs', 'Refuelers / Avgas', 'Refuelers / Jet', 'Signs / Ascent', 'Signs / Phillips', 'Signs / World', 'Storage / Deicing St']\n",
            "Sheet: Group Summary\n",
            "Unique Product Categories: ['Products', 'Misc Products', 'Fixed Asssets', 'Other Charges', nan]\n"
          ]
        }
      ]
    },
    {
      "cell_type": "code",
      "source": [
        "# Load all sheets from Mark Meyers file\n",
        "mark_meyers = pd.read_excel(mark_file, sheet_name=None)\n",
        "\n",
        "# Load Shaun's Report\n",
        "shauns_report = pd.read_excel(shaun_file)"
      ],
      "metadata": {
        "id": "gOgWChbc-629"
      },
      "execution_count": null,
      "outputs": []
    },
    {
      "cell_type": "code",
      "source": [
        "# Extract the relevant columns from both sheets\n",
        "by_bill_to_company = mark_meyers['By_Bill_To_Company']\n",
        "by_ship_to_company = mark_meyers['By_Ship_To_Company']\n",
        "fbo_name_shauns_report = shauns_report['FBO Name']"
      ],
      "metadata": {
        "id": "drSQ6AK07-jw"
      },
      "execution_count": null,
      "outputs": []
    },
    {
      "cell_type": "code",
      "source": [
        "# Set threshold for fuzzy match (you can adjust this)\n",
        "threshold = 85\n",
        "\n",
        "# Function to perform fuzzy matching\n",
        "def fuzzy_match(series_to_match, column_to_compare):\n",
        "    matched_indices = []\n",
        "    for idx, value in enumerate(series_to_match):\n",
        "        # Extract the best match and its score\n",
        "        match_data = process.extractOne(value, column_to_compare, scorer=fuzz.token_sort_ratio)\n",
        "        if match_data:  # Ensure there's a match\n",
        "            match, score = match_data[0], match_data[1]  # Unpack the best match and score\n",
        "            if score >= threshold:\n",
        "                matched_indices.append(idx)\n",
        "    return matched_indices"
      ],
      "metadata": {
        "id": "tHcFfdtkAlrN"
      },
      "execution_count": null,
      "outputs": []
    },
    {
      "cell_type": "code",
      "source": [
        "# Ensure all columns used in fuzzy matching are converted to strings and handle NaNs\n",
        "fbo_name_shauns_report = fbo_name_shauns_report.fillna('').astype(str)\n",
        "by_bill_to_company['billcomp'] = by_bill_to_company['billcomp'].fillna('').astype(str)\n",
        "by_ship_to_company['billcomp'] = by_ship_to_company['billcomp'].fillna('').astype(str)\n",
        "by_ship_to_company['shipcomp'] = by_ship_to_company['shipcomp'].fillna('').astype(str)"
      ],
      "metadata": {
        "id": "fQK6AzVCBuMc"
      },
      "execution_count": null,
      "outputs": []
    },
    {
      "cell_type": "code",
      "source": [
        "# Perform fuzzy matching for all comparisons\n",
        "bill_comp_matches = fuzzy_match(fbo_name_shauns_report, by_bill_to_company['billcomp'])\n",
        "billcomp_matches = fuzzy_match(fbo_name_shauns_report, by_ship_to_company['billcomp'])\n",
        "shipcomp_matches = fuzzy_match(fbo_name_shauns_report, by_ship_to_company['shipcomp'])"
      ],
      "metadata": {
        "colab": {
          "base_uri": "https://localhost:8080/"
        },
        "id": "ariu_hKcAz8y",
        "outputId": "151a5c96-aeff-4cb5-caf3-dc9c28a4fd98"
      },
      "execution_count": null,
      "outputs": [
        {
          "output_type": "stream",
          "name": "stderr",
          "text": [
            "WARNING:root:Applied processor reduces input query to empty string, all comparisons will have score 0. [Query: '']\n",
            "WARNING:root:Applied processor reduces input query to empty string, all comparisons will have score 0. [Query: '']\n",
            "WARNING:root:Applied processor reduces input query to empty string, all comparisons will have score 0. [Query: '']\n",
            "WARNING:root:Applied processor reduces input query to empty string, all comparisons will have score 0. [Query: '']\n",
            "WARNING:root:Applied processor reduces input query to empty string, all comparisons will have score 0. [Query: '']\n",
            "WARNING:root:Applied processor reduces input query to empty string, all comparisons will have score 0. [Query: '']\n"
          ]
        }
      ]
    },
    {
      "cell_type": "code",
      "source": [
        "# Combine the matched indices from all three comparisons\n",
        "matched_indices = set(bill_comp_matches) | set(billcomp_matches) | set(shipcomp_matches)\n",
        "\n",
        "# Filter Shaun's Report to keep only the matched rows\n",
        "filtered_shauns_report = shauns_report.iloc[list(matched_indices)]\n",
        "\n",
        "# Save the filtered report to a new Excel file\n",
        "output_path = '/content/Filtered_Shauns_Report.xlsx'\n",
        "filtered_shauns_report.to_excel(output_path, index=False)\n",
        "\n",
        "# Provide the output path for download\n",
        "print(f\"Filtered report saved to: {output_path}\")"
      ],
      "metadata": {
        "colab": {
          "base_uri": "https://localhost:8080/"
        },
        "id": "X55X5TmLCQks",
        "outputId": "a756aeb8-c6b9-4bbd-bdf9-489f439e0393"
      },
      "execution_count": null,
      "outputs": [
        {
          "output_type": "stream",
          "name": "stdout",
          "text": [
            "Filtered report saved to: /content/Filtered_Shauns_Report.xlsx\n"
          ]
        }
      ]
    }
  ]
}